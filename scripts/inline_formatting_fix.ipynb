{
 "cells": [
  {
   "cell_type": "code",
   "execution_count": 7,
   "metadata": {},
   "outputs": [],
   "source": [
    "import os, glob\n",
    "\n",
    "all_md = glob.glob(f'../src/*.md', recursive=True)"
   ]
  },
  {
   "cell_type": "code",
   "execution_count": 28,
   "metadata": {},
   "outputs": [
    {
     "data": {
      "application/vnd.jupyter.widget-view+json": {
       "model_id": "a34d1e20ba1b411bbd51891030df6380",
       "version_major": 2,
       "version_minor": 0
      },
      "text/plain": [
       "  0%|          | 0/110 [00:00<?, ?it/s]"
      ]
     },
     "metadata": {},
     "output_type": "display_data"
    },
    {
     "name": "stdout",
     "output_type": "stream",
     "text": [
      "# 回归分析\n",
      "\n",
      "$$a^b$$\n",
      "\n",
      "$$\n",
      "    y = x + b\n",
      "$$\n",
      "\n",
      "- 回归分析（regression analysis）：利用一个变量或一组变量的变化来估计或预测另一个变量或另一组变量的变化情况。\n",
      "- 线性回归模型（linear regression model）：变量之间存在线性关系的回归模型。\n",
      "- 回归线（regression line）：用来代表散点图上分布趋势的直线。\n",
      "- 拟合优度（goodness of fit）：回归方程对样本数据的代表程度。\n",
      "- 残差（residual error）：实际观测到的因变量值 $$Y$$ 与回归值 $$\\hat{Y}$$ 之差，是一种随机误差。\n",
      "- 回归平方和（regression sum of squares）：可以解释的离差平方和 $$\\sum_{i=1}^n(\\hat{Y}_i-\\overline{Y})^2$$ 。\n",
      "- 残差平方和（residual sum of squares）：不可解释的离差平方和 $$\\sum_{i=1}^n({Y}_i-\\hat{Y}_i)^2$$∑（Y-）2,又称为误差平方和。\n",
      "\n",
      "- 确定系数（coefficient of determination）：回归平方和在总离差平方和中所占的比例。\n",
      "\n",
      "- 不确定系数（coefficient of nondetermination）：残差平方和在总离差平方和中所占的比例。\n",
      "\n",
      "- 估计误差的标准差（standard deviation of estimation error）：与确定的自变量值对应的随机误差分布的标准差。\n",
      "\n",
      "- 回归平面（regression plane）：二元线性回归方程在三维空间中对应的一个平面。\n",
      "\n",
      "- 偏回归系数（partial regression coefficient）：在其他自变量保持恒定时某个自变量对因变量的影响程度。\n",
      "\n",
      "- 逐步回归（step-wise regression）：按各个自变量对因变量的作用，从大到小地将其逐个引入回归方程。\n",
      "\n",
      "- 多重共线性（multicollinearity effect）：在自变量中有两个或两个以上的自变量之间存在着完全线性或几乎完全线性的关系（即近乎完全相关）。\n",
      "\n",
      "- 虚拟变量（dummy variable）：将定性变量以编码的方式加以“量化”而产生的变量。编码方式有两种：0 一 1 编码和效应编码。\n",
      "\n",
      "- Logistic 回归（Logistic regression）：因变量为二分变量的回归模型。\n",
      "\n"
     ]
    }
   ],
   "source": [
    "from tqdm.auto import tqdm\n",
    "for md_file in tqdm(all_md):\n",
    "    with open(md_file, 'r') as f:\n",
    "        md_text = f.read()\n",
    "    import re\n",
    "    find = re.findall(r\"\\$.*?\\$\",  md_text)\n",
    "    rf = {}\n",
    "    for ff in find:\n",
    "        if ff != '$$':\n",
    "            rf[ff] = ff.replace('$', \"$$\")\n",
    "    for k, v in rf.items():\n",
    "        md_text = md_text.replace(k, v)"
   ]
  }
 ],
 "metadata": {
  "kernelspec": {
   "display_name": "tm",
   "language": "python",
   "name": "python3"
  },
  "language_info": {
   "codemirror_mode": {
    "name": "ipython",
    "version": 3
   },
   "file_extension": ".py",
   "mimetype": "text/x-python",
   "name": "python",
   "nbconvert_exporter": "python",
   "pygments_lexer": "ipython3",
   "version": "3.11.3"
  },
  "orig_nbformat": 4
 },
 "nbformat": 4,
 "nbformat_minor": 2
}
