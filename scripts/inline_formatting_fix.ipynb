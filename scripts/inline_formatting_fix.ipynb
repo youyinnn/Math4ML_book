{
 "cells": [
  {
   "cell_type": "code",
   "execution_count": 31,
   "metadata": {},
   "outputs": [],
   "source": [
    "import os, glob\n",
    "\n",
    "all_md = glob.glob(f'../src/*.md', recursive=True)"
   ]
  },
  {
   "cell_type": "code",
   "execution_count": 32,
   "metadata": {},
   "outputs": [
    {
     "data": {
      "application/vnd.jupyter.widget-view+json": {
       "model_id": "f1e7aac6eab540e796908c1a266a437d",
       "version_major": 2,
       "version_minor": 0
      },
      "text/plain": [
       "  0%|          | 0/111 [00:00<?, ?it/s]"
      ]
     },
     "metadata": {},
     "output_type": "display_data"
    }
   ],
   "source": [
    "from tqdm.auto import tqdm\n",
    "for md_file in tqdm(all_md):\n",
    "    with open(md_file, 'r') as f:\n",
    "        md_text = f.read()\n",
    "    import re\n",
    "    find = re.findall(r\"\\$.*?\\$\",  md_text)\n",
    "    rf = {}\n",
    "    for ff in find:\n",
    "        if ff != '$$':\n",
    "            rf[ff] = ff.replace('$', \"$$\")\n",
    "    for k, v in rf.items():\n",
    "        md_text = md_text.replace(k, v)\n",
    "    \n",
    "    with open(md_file, 'w') as f:\n",
    "        f.write(md_text)"
   ]
  }
 ],
 "metadata": {
  "kernelspec": {
   "display_name": "tm",
   "language": "python",
   "name": "python3"
  },
  "language_info": {
   "codemirror_mode": {
    "name": "ipython",
    "version": 3
   },
   "file_extension": ".py",
   "mimetype": "text/x-python",
   "name": "python",
   "nbconvert_exporter": "python",
   "pygments_lexer": "ipython3",
   "version": "3.11.3"
  },
  "orig_nbformat": 4
 },
 "nbformat": 4,
 "nbformat_minor": 2
}
